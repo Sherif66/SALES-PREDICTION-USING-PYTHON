{
 "cells": [
  {
   "cell_type": "code",
   "execution_count": 5,
   "id": "4cb78067",
   "metadata": {},
   "outputs": [],
   "source": [
    "# Import necessary libraries\\\n",
    "import numpy as np\n",
    "import pandas as pd\n",
    "import matplotlib.pyplot as plt\n",
    "import seaborn as sns\n",
    "from scipy import stats\n",
    "from sklearn.model_selection import train_test_split, cross_val_score\n",
    "from sklearn.linear_model import LinearRegression\n",
    "from sklearn.tree import DecisionTreeRegressor\n",
    "from sklearn.ensemble import RandomForestRegressor\n",
    "from sklearn.metrics import mean_squared_error, r2_score\n",
    "from sklearn.preprocessing import StandardScaler\n",
    "from statsmodels.stats.outliers_influence import variance_inflation_factor"
   ]
  },
  {
   "cell_type": "code",
   "execution_count": 6,
   "id": "e09de8ef",
   "metadata": {},
   "outputs": [],
   "source": [
    "# Load the data\n",
    "file_path = 'advertising.csv'  # Replace with your file path\n",
    "advertising_data = pd.read_csv(file_path)"
   ]
  },
  {
   "cell_type": "code",
   "execution_count": 7,
   "id": "827cecb6",
   "metadata": {},
   "outputs": [],
   "source": [
    "# Check for outliers (using Z-score for example)\n",
    "z_scores = stats.zscore(advertising_data)\n",
    "abs_z_scores = np.abs(z_scores)\n",
    "filtered_entries = (abs_z_scores < 3).all(axis=1)\n",
    "advertising_data = advertising_data[filtered_entries]"
   ]
  },
  {
   "cell_type": "code",
   "execution_count": 8,
   "id": "ad7bcce1",
   "metadata": {},
   "outputs": [
    {
     "name": "stdout",
     "output_type": "stream",
     "text": [
      "     feature        VIF\n",
      "0         TV  24.945471\n",
      "1      Radio   6.519384\n",
      "2  Newspaper   3.368552\n",
      "3      Sales  44.403915\n"
     ]
    }
   ],
   "source": [
    "# Check for multicollinearity\n",
    "vif_data = pd.DataFrame()\n",
    "vif_data[\"feature\"] = advertising_data.columns\n",
    "vif_data[\"VIF\"] = [variance_inflation_factor(advertising_data.values, i) for i in range(len(advertising_data.columns))]\n",
    "print(vif_data)\n"
   ]
  },
  {
   "cell_type": "code",
   "execution_count": 9,
   "id": "addb043b",
   "metadata": {},
   "outputs": [],
   "source": [
    "# Feature Scaling - Standardization\n",
    "scaler = StandardScaler()\n",
    "scaled_features = scaler.fit_transform(advertising_data.drop('Sales', axis=1))"
   ]
  },
  {
   "cell_type": "code",
   "execution_count": 10,
   "id": "a2b6fca9",
   "metadata": {},
   "outputs": [],
   "source": [
    "# Preparing the data\n",
    "X = scaled_features\n",
    "y = advertising_data['Sales'].values\n",
    "X_train, X_test, y_train, y_test = train_test_split(X, y, test_size=0.2, random_state=42)"
   ]
  },
  {
   "cell_type": "code",
   "execution_count": 11,
   "id": "66ac4362",
   "metadata": {},
   "outputs": [],
   "source": [
    "# Linear Regression Model\n",
    "linear_model = LinearRegression()\n",
    "linear_model.fit(X_train, y_train)\n",
    "y_pred_linear = linear_model.predict(X_test)\n",
    "mse_linear = mean_squared_error(y_test, y_pred_linear)\n",
    "r2_linear = r2_score(y_test, y_pred_linear)"
   ]
  },
  {
   "cell_type": "code",
   "execution_count": 12,
   "id": "f8de92d5",
   "metadata": {},
   "outputs": [
    {
     "name": "stdout",
     "output_type": "stream",
     "text": [
      "Cross-validated scores for Linear Regression: [0.87197347 0.93419089 0.92100991 0.84281448 0.90232299]\n"
     ]
    }
   ],
   "source": [
    "# Cross-validation for Linear Regression\n",
    "cv_scores = cross_val_score(linear_model, X, y, cv=5)\n",
    "print(\"Cross-validated scores for Linear Regression:\", cv_scores)"
   ]
  },
  {
   "cell_type": "code",
   "execution_count": 13,
   "id": "f332cf4c",
   "metadata": {},
   "outputs": [],
   "source": [
    "# Decision Tree Regressor\n",
    "tree_model = DecisionTreeRegressor(random_state=42)\n",
    "tree_model.fit(X_train, y_train)\n",
    "y_pred_tree = tree_model.predict(X_test)\n",
    "mse_tree = mean_squared_error(y_test, y_pred_tree)\n",
    "r2_tree = r2_score(y_test, y_pred_tree)"
   ]
  },
  {
   "cell_type": "code",
   "execution_count": 14,
   "id": "f03e602e",
   "metadata": {},
   "outputs": [],
   "source": [
    "# Random Forest Regressor\n",
    "forest_model = RandomForestRegressor(n_estimators=100, random_state=42)\n",
    "forest_model.fit(X_train, y_train)\n",
    "y_pred_forest = forest_model.predict(X_test)\n",
    "mse_forest = mean_squared_error(y_test, y_pred_forest)\n",
    "r2_forest = r2_score(y_test, y_pred_forest)"
   ]
  },
  {
   "cell_type": "code",
   "execution_count": 15,
   "id": "f71bc8bd",
   "metadata": {},
   "outputs": [
    {
     "name": "stdout",
     "output_type": "stream",
     "text": [
      "Linear Regression - MSE: 2.4157289455935094 R2: 0.9130003152798272\n",
      "Decision Tree - MSE: 1.9524999999999992 R2: 0.9296829701337195\n",
      "Random Forest - MSE: 1.0095954250000028 R2: 0.9636405881420818\n"
     ]
    }
   ],
   "source": [
    "# Displaying the results\n",
    "print(\"Linear Regression - MSE:\", mse_linear, \"R2:\", r2_linear)\n",
    "print(\"Decision Tree - MSE:\", mse_tree, \"R2:\", r2_tree)\n",
    "print(\"Random Forest - MSE:\", mse_forest, \"R2:\", r2_forest)"
   ]
  },
  {
   "cell_type": "code",
   "execution_count": 16,
   "id": "15192201",
   "metadata": {},
   "outputs": [
    {
     "name": "stdout",
     "output_type": "stream",
     "text": [
      "Enter TV advertising budget: 80\n",
      "Enter Radio advertising budget: 20\n",
      "Enter Newspaper advertising budget: 42\n"
     ]
    },
    {
     "name": "stderr",
     "output_type": "stream",
     "text": [
      "C:\\Users\\Default.SHERIF\\anaconda3\\lib\\site-packages\\sklearn\\base.py:450: UserWarning: X does not have valid feature names, but StandardScaler was fitted with feature names\n",
      "  warnings.warn(\n"
     ]
    }
   ],
   "source": [
    "# User input for prediction (with scaling)\n",
    "tv_budget = float(input(\"Enter TV advertising budget: \"))\n",
    "radio_budget = float(input(\"Enter Radio advertising budget: \"))\n",
    "newspaper_budget = float(input(\"Enter Newspaper advertising budget: \"))\n",
    "user_input_scaled = scaler.transform([[tv_budget, radio_budget, newspaper_budget]])"
   ]
  },
  {
   "cell_type": "code",
   "execution_count": 17,
   "id": "07205a6f",
   "metadata": {},
   "outputs": [],
   "source": [
    "# Making predictions\n",
    "predicted_sales_linear = linear_model.predict(user_input_scaled)[0]\n",
    "predicted_sales_tree = tree_model.predict(user_input_scaled)[0]\n",
    "predicted_sales_forest = forest_model.predict(user_input_scaled)[0]\n"
   ]
  },
  {
   "cell_type": "code",
   "execution_count": 18,
   "id": "95c92551",
   "metadata": {},
   "outputs": [
    {
     "name": "stdout",
     "output_type": "stream",
     "text": [
      "\n",
      "Predicted Sales\n",
      "Linear Regression: 11.274451077379908\n",
      "Decision Tree: 10.5\n",
      "Random Forest: 11.772999999999985\n"
     ]
    }
   ],
   "source": [
    "# Displaying the predicted sales\n",
    "print(\"\\nPredicted Sales\")\n",
    "print(\"Linear Regression:\", predicted_sales_linear)\n",
    "print(\"Decision Tree:\", predicted_sales_tree)\n",
    "print(\"Random Forest:\", predicted_sales_forest)"
   ]
  },
  {
   "cell_type": "code",
   "execution_count": null,
   "id": "d9a72501",
   "metadata": {},
   "outputs": [],
   "source": []
  }
 ],
 "metadata": {
  "kernelspec": {
   "display_name": "Python 3 (ipykernel)",
   "language": "python",
   "name": "python3"
  },
  "language_info": {
   "codemirror_mode": {
    "name": "ipython",
    "version": 3
   },
   "file_extension": ".py",
   "mimetype": "text/x-python",
   "name": "python",
   "nbconvert_exporter": "python",
   "pygments_lexer": "ipython3",
   "version": "3.9.13"
  }
 },
 "nbformat": 4,
 "nbformat_minor": 5
}
